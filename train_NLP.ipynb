import pandas as pd
from sklearn.feature_extraction.text import TfidfVectorizer
import re
import string
from sklearn.metrics import accuracy_score
from sklearn.model_selection import train_test_split
from nltk.corpus import stopwords
from sklearn.pipeline import Pipeline
from sklearn.linear_model import LogisticRegression
import nltk
import os
nltk.download('stopwords')
nltk.download('wordnet')

# Load text files from a folder and assign labels
def load_text_files_as_list(data_dir, label):
    texts = []
    for fname in os.listdir(data_dir):
        if fname.endswith('.txt'):
            with open(os.path.join(data_dir, fname), 'r', encoding='utf-8') as f:
                texts.append((f.read(), label))
    return texts

# Data Preprocessing
def clean_text(text):
    text = text.lower()
    text = re.sub('\[.*?\]', '', text)
    text = re.sub('[%s]' % re.escape(string.punctuation), '', text)
    REPLACE_NO_SPACE = re.compile("[.;:!\'?,\"()\[\]]")
    text = REPLACE_NO_SPACE.sub("", text.lower())
    REPLACE_WITH_SPACE = re.compile("(<br\s*/><br\s*/>)|(\-)|(\/)")
    text = REPLACE_WITH_SPACE.sub(" ", text)
    text = re.sub('\w*\d\w*', '', text)
    text = re.sub('[''"",,,]', '', text)
    text = re.sub('\n', '', text)
    return text

# Remove stop words
def remove_stop_words(corpus):
    english_stop_words = stopwords.words('english')
    return [' '.join([word for word in review.split() if word not in english_stop_words]) for review in corpus]

# Lemmatization
def get_lemmatized_text(corpus):
    from nltk.stem import WordNetLemmatizer
    lemmatizer = WordNetLemmatizer()
    return [' '.join([lemmatizer.lemmatize(word) for word in review.split()]) for review in corpus]

if __name__ == "__main__":
    # Load training and test data, and concatenate them into a single DataFrame
    folder_neg_train = 'train/neg'
    folder_pos_train = 'train/pos'
    folder_neg_test = 'test/neg'
    folder_pos_test = 'test/pos'

    texts_list_train = load_text_files_as_list(folder_neg_train, label=0) + load_text_files_as_list(folder_pos_train, label=1)
    texts_list_test = load_text_files_as_list(folder_neg_test, label=0) + load_text_files_as_list(folder_pos_test, label=1)

    df_train = pd.DataFrame(texts_list_train, columns=['Review', 'Label'])
    df_test = pd.DataFrame(texts_list_test, columns=['Review', 'Label'])

    concatenated_df = pd.concat([df_train, df_test], ignore_index=True)

    # Data Preprocessing
    concatenated_df['Review'] = concatenated_df['Review'].apply(clean_text)
    concatenated_df['Review'] = remove_stop_words(concatenated_df['Review'])
    concatenated_df['Review'] = get_lemmatized_text(concatenated_df['Review'])

    # Split the concatenated DataFrame back into train and test DataFrames
    df_train = concatenated_df.iloc[:len(df_train)]
    df_test = concatenated_df.iloc[len(df_train):]

    xtrain, xtest, ytrain, ytest = train_test_split(df_train['Review'], df_train['Label'], test_size=0.25, random_state=225)

    # Train the model
    tf = TfidfVectorizer()
    classifier = LogisticRegression()
    model = Pipeline([('vectorizer', tf), ('classifier', classifier)])
    model.fit(xtrain, ytrain)

    # Make predictions on the training data
    ytrain_pred = model.predict(xtrain)

    # Calculate the training accuracy
    training_accuracy = accuracy_score(ytrain, ytrain_pred)
    print("Training Accuracy:", training_accuracy)

    # Save the model (optional)
    import joblib
    joblib.dump(model, 'model.pkl')
